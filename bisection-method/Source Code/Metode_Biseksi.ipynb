{
  "nbformat": 4,
  "nbformat_minor": 0,
  "metadata": {
    "colab": {
      "provenance": []
    },
    "kernelspec": {
      "name": "python3",
      "display_name": "Python 3"
    },
    "language_info": {
      "name": "python"
    }
  },
  "cells": [
    {
      "cell_type": "code",
      "execution_count": 9,
      "metadata": {
        "colab": {
          "base_uri": "https://localhost:8080/",
          "height": 616
        },
        "id": "LJGYMxzVIMwO",
        "outputId": "b3ad0894-5ebe-4c56-e163-ff1fbb39e582"
      },
      "outputs": [
        {
          "output_type": "stream",
          "name": "stdout",
          "text": [
            "Masukkan persamaan fungsi x : x**3-7*x+1\n",
            "Masukkan nilai a : 2.5\n",
            "Masukan nilai b : 2.6\n",
            "Akar persaaman adalah  2.5  dan  2.6\n",
            "n\t a    \t\t b    \t\t  xn    \t\t f(a)   \t\t  f(b)  \t\t f(xn)\n",
            "                                                                 \n",
            "1 \t 2.5       \t 2.6       \t -0.875         \t 0.376 -0.2686\n",
            "2 \t 2.55       \t 2.6       \t -0.2686         \t 0.376 0.0489\n",
            "3 \t 2.55       \t 2.575       \t -0.2686         \t 0.0489 -0.1111\n",
            "4 \t 2.5625       \t 2.575       \t -0.1111         \t 0.0489 -0.0314\n",
            "5 \t 2.5688       \t 2.575       \t -0.0314         \t 0.0489 0.0086\n",
            "6 \t 2.5688       \t 2.5719       \t -0.0314         \t 0.0086 -0.0114\n",
            "7 \t 2.5703       \t 2.5719       \t -0.0114         \t 0.0086 -0.0014\n",
            "8 \t 2.5711       \t 2.5719       \t -0.0014         \t 0.0086 0.0036\n",
            "9 \t 2.5711       \t 2.5715       \t -0.0014         \t 0.0036 0.0011\n",
            "10 \t 2.5711       \t 2.5713       \t -0.0014         \t 0.0011 -0.0001\n",
            "Akar persamaanya adalah =   2.57119140625  dan  2.5712890625\n"
          ]
        },
        {
          "output_type": "display_data",
          "data": {
            "text/plain": [
              "<Figure size 432x288 with 1 Axes>"
            ],
            "image/png": "[encoded data removed]"
          },
          "metadata": {
            "needs_background": "light"
          }
        },
        {
          "name": "stdout",
          "output_type": "stream",
          "text": [
            "Tekan enter untuk keluar\n"
          ]
        },
        {
          "output_type": "execute_result",
          "data": {
            "text/plain": [
              "''"
            ],
            "application/vnd.google.colaboratory.intrinsic+json": {
              "type": "string"
            }
          },
          "metadata": {},
          "execution_count": 9
        }
      ],
      "source": [
        "import numpy as np\n",
        "import matplotlib.pyplot as plt\n",
        "\n",
        "y = input('Masukkan persamaan fungsi x : ')\n",
        "\n",
        "a = float((input('Masukkan nilai a : ')))\n",
        "b = float((input('Masukan nilai b : ')))\n",
        "\n",
        "print('Akar persaaman adalah ', a, ' dan ', b)\n",
        "\n",
        "def f(x):\n",
        "  z = y.replace('x',str(x))\n",
        "  return eval(z)\n",
        "\n",
        "def biseksi(a,b,tot):\n",
        "  n = 1\n",
        "  if f(a) * f(b) > 0:\n",
        "    print('Tidak memiliki akar persamaan')\n",
        "  else:\n",
        "    while abs(b-a) > tot:\n",
        "      x = (a+b)/2\n",
        "      print(n,'\\t', round(a,4),'      \\t', round (b,4),'      \\t', round(f(a),4),'        \\t',round(f(b),4), round(f(x),4))\n",
        "\n",
        "      if f(x) == 0:\n",
        "        print('Akar persamaannya adalah ', x)\n",
        "        break\n",
        "      elif f(a) * f(x) < 0:\n",
        "        b = x\n",
        "      else:\n",
        "        a = x\n",
        "      n += 1\n",
        "\n",
        "    print('Akar persamaanya adalah =  ', round(a,11), ' dan ', round(b,11))\n",
        "\n",
        "print('n\\t a    \\t\\t b    \\t\\t  xn    \\t\\t f(a)   \\t\\t  f(b)  \\t\\t f(xn)')\n",
        "print('                                                                 ')\n",
        "biseksi(a, b, 0.0001)\n",
        "\n",
        "x = np.linspace(a, b)\n",
        "plt.plot(x, eval(y))\n",
        "plt.grid()\n",
        "plt.show()"
      ]
    }
  ]
}